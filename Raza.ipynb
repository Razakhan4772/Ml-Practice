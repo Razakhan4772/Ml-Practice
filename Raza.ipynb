{
 "cells": [
  {
   "cell_type": "markdown",
   "metadata": {},
   "source": [
    "#This is to test python"
   ]
  },
  {
   "cell_type": "code",
   "execution_count": 112,
   "metadata": {},
   "outputs": [],
   "source": [
    "from IPython.core.interactiveshell import InteractiveShell\n",
    "InteractiveShell.ast_node_interactivity = \"all\"\n",
    "from datetime import datetime, date, time"
   ]
  },
  {
   "cell_type": "code",
   "execution_count": 113,
   "metadata": {},
   "outputs": [
    {
     "name": "stdout",
     "output_type": "stream",
     "text": [
      "[10, 20, 30, 40, 50, 60, 70, 80, 90]\n"
     ]
    },
    {
     "data": {
      "text/plain": [
       "[40, 50, 60, 70, 80, 90]"
      ]
     },
     "execution_count": 113,
     "metadata": {},
     "output_type": "execute_result"
    }
   ],
   "source": [
    "#List, Dictionary, Tuple\n",
    "#Lists:\n",
    "myList = [10, 20, 30, 40, 50, 60, 70, 80, 90]\n",
    "print(myList)\n",
    "myList[3:]\n"
   ]
  },
  {
   "cell_type": "code",
   "execution_count": 114,
   "metadata": {},
   "outputs": [],
   "source": [
    "x = [1, \"b\", 3] "
   ]
  },
  {
   "cell_type": "code",
   "execution_count": 115,
   "metadata": {},
   "outputs": [
    {
     "data": {
      "text/plain": [
       "'b'"
      ]
     },
     "execution_count": 115,
     "metadata": {},
     "output_type": "execute_result"
    }
   ],
   "source": [
    "x[1]"
   ]
  },
  {
   "cell_type": "code",
   "execution_count": 116,
   "metadata": {},
   "outputs": [
    {
     "data": {
      "text/plain": [
       "'Dating app'"
      ]
     },
     "execution_count": 116,
     "metadata": {},
     "output_type": "execute_result"
    }
   ],
   "source": [
    "#dictionary:\n",
    "\n",
    "dict = {\"vibeus\": \"Dating app\",\n",
    "        \"Plutter\" : \"Social Media\",\n",
    "        \"Viber\" : \"Communication application\"}\n",
    "dict[\"vibeus\"]\n"
   ]
  },
  {
   "cell_type": "code",
   "execution_count": 117,
   "metadata": {},
   "outputs": [
    {
     "data": {
      "text/plain": [
       "'Google'"
      ]
     },
     "execution_count": 117,
     "metadata": {},
     "output_type": "execute_result"
    }
   ],
   "source": [
    "students = {\"Mohammed\": [\"IBM\"],\n",
    "            \"Raza\" : [\"INFY\", \"Wipro\", \"Google\"],\n",
    "            \"Khan\" : [\"FaceBook\", \"Plutter\", \"Vibeus\", \"Connect\"]\n",
    "           \n",
    "           }\n",
    "students[\"Raza\"][2]"
   ]
  },
  {
   "cell_type": "code",
   "execution_count": 118,
   "metadata": {},
   "outputs": [
    {
     "data": {
      "text/plain": [
       "[1, 2, 3, 4, 7]"
      ]
     },
     "execution_count": 118,
     "metadata": {},
     "output_type": "execute_result"
    }
   ],
   "source": [
    "#Tuples\n",
    "tup_ex = (1,2,3)\n",
    "MyList = [1,2,3,4,]\n",
    "MyList.append(7)\n",
    "MyList\n"
   ]
  },
  {
   "cell_type": "code",
   "execution_count": 119,
   "metadata": {},
   "outputs": [
    {
     "name": "stdout",
     "output_type": "stream",
     "text": [
      "Requirement already satisfied: pandas in ./miniconda3/lib/python3.8/site-packages (1.2.0)\r\n",
      "Requirement already satisfied: python-dateutil>=2.7.3 in ./miniconda3/lib/python3.8/site-packages (from pandas) (2.8.1)\r\n",
      "Requirement already satisfied: numpy>=1.16.5 in ./miniconda3/lib/python3.8/site-packages (from pandas) (1.19.5)\r\n",
      "Requirement already satisfied: pytz>=2017.3 in ./miniconda3/lib/python3.8/site-packages (from pandas) (2020.5)\r\n",
      "Requirement already satisfied: six>=1.5 in ./miniconda3/lib/python3.8/site-packages (from python-dateutil>=2.7.3->pandas) (1.15.0)\r\n"
     ]
    }
   ],
   "source": [
    "!pip install pandas"
   ]
  },
  {
   "cell_type": "code",
   "execution_count": 120,
   "metadata": {},
   "outputs": [],
   "source": [
    "#Read Data \n",
    "import pandas as pd\n",
    "#import numpy as np\n",
    "df = pd.read_excel(\"P2 Viva Scuedule.xlsx\")\n"
   ]
  },
  {
   "cell_type": "code",
   "execution_count": 121,
   "metadata": {},
   "outputs": [
    {
     "data": {
      "text/html": [
       "<div>\n",
       "<style scoped>\n",
       "    .dataframe tbody tr th:only-of-type {\n",
       "        vertical-align: middle;\n",
       "    }\n",
       "\n",
       "    .dataframe tbody tr th {\n",
       "        vertical-align: top;\n",
       "    }\n",
       "\n",
       "    .dataframe thead th {\n",
       "        text-align: right;\n",
       "    }\n",
       "</style>\n",
       "<table border=\"1\" class=\"dataframe\">\n",
       "  <thead>\n",
       "    <tr style=\"text-align: right;\">\n",
       "      <th></th>\n",
       "      <th>Enrl. No.</th>\n",
       "      <th>Name</th>\n",
       "      <th>Batch</th>\n",
       "      <th>Date of P2 Viva</th>\n",
       "    </tr>\n",
       "  </thead>\n",
       "  <tbody>\n",
       "    <tr>\n",
       "      <th>0</th>\n",
       "      <td>201B003</td>\n",
       "      <td>Abhay Singh</td>\n",
       "      <td>A2</td>\n",
       "      <td>Jan 13. 2021                     09:30 AM</td>\n",
       "    </tr>\n",
       "    <tr>\n",
       "      <th>1</th>\n",
       "      <td>201B005</td>\n",
       "      <td>Abhijeet Verma</td>\n",
       "      <td>A2</td>\n",
       "      <td>NaN</td>\n",
       "    </tr>\n",
       "    <tr>\n",
       "      <th>2</th>\n",
       "      <td>201B014</td>\n",
       "      <td>Aditi Mishra</td>\n",
       "      <td>A2</td>\n",
       "      <td>NaN</td>\n",
       "    </tr>\n",
       "    <tr>\n",
       "      <th>3</th>\n",
       "      <td>201B018</td>\n",
       "      <td>Aditya Rana</td>\n",
       "      <td>A2</td>\n",
       "      <td>NaN</td>\n",
       "    </tr>\n",
       "    <tr>\n",
       "      <th>4</th>\n",
       "      <td>201B023</td>\n",
       "      <td>Aditya Tripathi</td>\n",
       "      <td>A2</td>\n",
       "      <td>NaN</td>\n",
       "    </tr>\n",
       "  </tbody>\n",
       "</table>\n",
       "</div>"
      ],
      "text/plain": [
       "  Enrl. No.             Name Batch                            Date of P2 Viva\n",
       "0   201B003      Abhay Singh    A2  Jan 13. 2021                     09:30 AM\n",
       "1   201B005   Abhijeet Verma    A2                                        NaN\n",
       "2   201B014     Aditi Mishra    A2                                        NaN\n",
       "3   201B018      Aditya Rana    A2                                        NaN\n",
       "4   201B023  Aditya Tripathi    A2                                        NaN"
      ]
     },
     "execution_count": 121,
     "metadata": {},
     "output_type": "execute_result"
    }
   ],
   "source": [
    "df.head(n = 5)"
   ]
  },
  {
   "cell_type": "code",
   "execution_count": 122,
   "metadata": {},
   "outputs": [
    {
     "data": {
      "text/html": [
       "<div>\n",
       "<style scoped>\n",
       "    .dataframe tbody tr th:only-of-type {\n",
       "        vertical-align: middle;\n",
       "    }\n",
       "\n",
       "    .dataframe tbody tr th {\n",
       "        vertical-align: top;\n",
       "    }\n",
       "\n",
       "    .dataframe thead th {\n",
       "        text-align: right;\n",
       "    }\n",
       "</style>\n",
       "<table border=\"1\" class=\"dataframe\">\n",
       "  <thead>\n",
       "    <tr style=\"text-align: right;\">\n",
       "      <th></th>\n",
       "      <th>Enrl. No.</th>\n",
       "      <th>Name</th>\n",
       "      <th>Batch</th>\n",
       "      <th>Date of P2 Viva</th>\n",
       "    </tr>\n",
       "  </thead>\n",
       "  <tbody>\n",
       "    <tr>\n",
       "      <th>86</th>\n",
       "      <td>201D004</td>\n",
       "      <td>Sanjeev Kumar Ahirwar</td>\n",
       "      <td>A2</td>\n",
       "      <td>NaN</td>\n",
       "    </tr>\n",
       "    <tr>\n",
       "      <th>87</th>\n",
       "      <td>201E002</td>\n",
       "      <td>Akshat Shukla</td>\n",
       "      <td>A2</td>\n",
       "      <td>NaN</td>\n",
       "    </tr>\n",
       "    <tr>\n",
       "      <th>88</th>\n",
       "      <td>201E003</td>\n",
       "      <td>Arindam Mukherjee</td>\n",
       "      <td>A2</td>\n",
       "      <td>NaN</td>\n",
       "    </tr>\n",
       "    <tr>\n",
       "      <th>89</th>\n",
       "      <td>201E005</td>\n",
       "      <td>Kritik Rana</td>\n",
       "      <td>A-2</td>\n",
       "      <td>NaN</td>\n",
       "    </tr>\n",
       "    <tr>\n",
       "      <th>90</th>\n",
       "      <td>201E007</td>\n",
       "      <td>Parth Singh Pawar</td>\n",
       "      <td>A2</td>\n",
       "      <td>NaN</td>\n",
       "    </tr>\n",
       "  </tbody>\n",
       "</table>\n",
       "</div>"
      ],
      "text/plain": [
       "    Enrl. No.                   Name Batch Date of P2 Viva\n",
       "86    201D004  Sanjeev Kumar Ahirwar    A2             NaN\n",
       "87    201E002          Akshat Shukla    A2             NaN\n",
       "88    201E003      Arindam Mukherjee    A2             NaN\n",
       "89    201E005            Kritik Rana   A-2             NaN\n",
       "90    201E007      Parth Singh Pawar    A2             NaN"
      ]
     },
     "execution_count": 122,
     "metadata": {},
     "output_type": "execute_result"
    }
   ],
   "source": [
    "df.tail()"
   ]
  },
  {
   "cell_type": "code",
   "execution_count": 123,
   "metadata": {},
   "outputs": [
    {
     "data": {
      "text/plain": [
       "(91, 4)"
      ]
     },
     "execution_count": 123,
     "metadata": {},
     "output_type": "execute_result"
    }
   ],
   "source": [
    "df.shape"
   ]
  },
  {
   "cell_type": "code",
   "execution_count": 124,
   "metadata": {},
   "outputs": [
    {
     "data": {
      "text/plain": [
       "Enrl. No.          object\n",
       "Name               object\n",
       "Batch              object\n",
       "Date of P2 Viva    object\n",
       "dtype: object"
      ]
     },
     "execution_count": 124,
     "metadata": {},
     "output_type": "execute_result"
    }
   ],
   "source": [
    "df.dtypes"
   ]
  },
  {
   "cell_type": "code",
   "execution_count": 125,
   "metadata": {},
   "outputs": [
    {
     "data": {
      "text/html": [
       "<div>\n",
       "<style scoped>\n",
       "    .dataframe tbody tr th:only-of-type {\n",
       "        vertical-align: middle;\n",
       "    }\n",
       "\n",
       "    .dataframe tbody tr th {\n",
       "        vertical-align: top;\n",
       "    }\n",
       "\n",
       "    .dataframe thead th {\n",
       "        text-align: right;\n",
       "    }\n",
       "</style>\n",
       "<table border=\"1\" class=\"dataframe\">\n",
       "  <thead>\n",
       "    <tr style=\"text-align: right;\">\n",
       "      <th></th>\n",
       "      <th>Enrl. No.</th>\n",
       "      <th>Name</th>\n",
       "      <th>Batch</th>\n",
       "      <th>Date of P2 Viva</th>\n",
       "    </tr>\n",
       "  </thead>\n",
       "  <tbody>\n",
       "    <tr>\n",
       "      <th>count</th>\n",
       "      <td>91</td>\n",
       "      <td>91</td>\n",
       "      <td>91</td>\n",
       "      <td>6</td>\n",
       "    </tr>\n",
       "    <tr>\n",
       "      <th>unique</th>\n",
       "      <td>91</td>\n",
       "      <td>91</td>\n",
       "      <td>4</td>\n",
       "      <td>6</td>\n",
       "    </tr>\n",
       "    <tr>\n",
       "      <th>top</th>\n",
       "      <td>201B122</td>\n",
       "      <td>Kriti Gupta</td>\n",
       "      <td>A2</td>\n",
       "      <td>Jan 20, 2021                            09:30 AM</td>\n",
       "    </tr>\n",
       "    <tr>\n",
       "      <th>freq</th>\n",
       "      <td>1</td>\n",
       "      <td>1</td>\n",
       "      <td>86</td>\n",
       "      <td>1</td>\n",
       "    </tr>\n",
       "  </tbody>\n",
       "</table>\n",
       "</div>"
      ],
      "text/plain": [
       "       Enrl. No.         Name Batch  \\\n",
       "count         91           91    91   \n",
       "unique        91           91     4   \n",
       "top      201B122  Kriti Gupta    A2   \n",
       "freq           1            1    86   \n",
       "\n",
       "                                         Date of P2 Viva  \n",
       "count                                                  6  \n",
       "unique                                                 6  \n",
       "top     Jan 20, 2021                            09:30 AM  \n",
       "freq                                                   1  "
      ]
     },
     "execution_count": 125,
     "metadata": {},
     "output_type": "execute_result"
    }
   ],
   "source": [
    "df.describe(include= \"all\")"
   ]
  },
  {
   "cell_type": "code",
   "execution_count": 126,
   "metadata": {},
   "outputs": [],
   "source": [
    "temp = pd.DataFrame({\n",
    "    \"No.\" : [\"1\", \"2\", \"3\", \"4\"],\n",
    "    \"Name\" :[\"Raza\", \"Sana\", \"Ziyan\", \"Shayan\"], \n",
    "    \"age\" : [18, 10, 4, 0.5],\n",
    "    \"mother name\" : [\"Zarina\", \"Zarina\", \"Reshma\", \"Reshma\"],\n",
    "    \"Father name\": [\"Yunus\", \"Yunus\", \"Kalim\", \"Kalim\"],\n",
    "    \"Schooling\" : [\"PHS\", \"CEHS\", \"null\", \"null\"],\n",
    "    \"Job\": [\"Founder and CEO\", \"null\", \"null\", \"null\"],\n",
    "    \"DOB\": ['2002-october-08', '2011-january-27', '2016-september-26', '2020-August-03']\n",
    "    })\n"
   ]
  },
  {
   "cell_type": "code",
   "execution_count": 127,
   "metadata": {},
   "outputs": [
    {
     "data": {
      "text/html": [
       "<div>\n",
       "<style scoped>\n",
       "    .dataframe tbody tr th:only-of-type {\n",
       "        vertical-align: middle;\n",
       "    }\n",
       "\n",
       "    .dataframe tbody tr th {\n",
       "        vertical-align: top;\n",
       "    }\n",
       "\n",
       "    .dataframe thead th {\n",
       "        text-align: right;\n",
       "    }\n",
       "</style>\n",
       "<table border=\"1\" class=\"dataframe\">\n",
       "  <thead>\n",
       "    <tr style=\"text-align: right;\">\n",
       "      <th></th>\n",
       "      <th>No.</th>\n",
       "      <th>Name</th>\n",
       "      <th>age</th>\n",
       "      <th>mother name</th>\n",
       "      <th>Father name</th>\n",
       "      <th>Schooling</th>\n",
       "      <th>Job</th>\n",
       "      <th>DOB</th>\n",
       "    </tr>\n",
       "  </thead>\n",
       "  <tbody>\n",
       "    <tr>\n",
       "      <th>0</th>\n",
       "      <td>1</td>\n",
       "      <td>Raza</td>\n",
       "      <td>18.0</td>\n",
       "      <td>Zarina</td>\n",
       "      <td>Yunus</td>\n",
       "      <td>PHS</td>\n",
       "      <td>Founder and CEO</td>\n",
       "      <td>2002-october-08</td>\n",
       "    </tr>\n",
       "    <tr>\n",
       "      <th>1</th>\n",
       "      <td>2</td>\n",
       "      <td>Sana</td>\n",
       "      <td>10.0</td>\n",
       "      <td>Zarina</td>\n",
       "      <td>Yunus</td>\n",
       "      <td>CEHS</td>\n",
       "      <td>null</td>\n",
       "      <td>2011-january-27</td>\n",
       "    </tr>\n",
       "    <tr>\n",
       "      <th>2</th>\n",
       "      <td>3</td>\n",
       "      <td>Ziyan</td>\n",
       "      <td>4.0</td>\n",
       "      <td>Reshma</td>\n",
       "      <td>Kalim</td>\n",
       "      <td>null</td>\n",
       "      <td>null</td>\n",
       "      <td>2016-september-26</td>\n",
       "    </tr>\n",
       "    <tr>\n",
       "      <th>3</th>\n",
       "      <td>4</td>\n",
       "      <td>Shayan</td>\n",
       "      <td>0.5</td>\n",
       "      <td>Reshma</td>\n",
       "      <td>Kalim</td>\n",
       "      <td>null</td>\n",
       "      <td>null</td>\n",
       "      <td>2020-August-03</td>\n",
       "    </tr>\n",
       "  </tbody>\n",
       "</table>\n",
       "</div>"
      ],
      "text/plain": [
       "  No.    Name   age mother name Father name Schooling              Job  \\\n",
       "0   1    Raza  18.0      Zarina       Yunus       PHS  Founder and CEO   \n",
       "1   2    Sana  10.0      Zarina       Yunus      CEHS             null   \n",
       "2   3   Ziyan   4.0      Reshma       Kalim      null             null   \n",
       "3   4  Shayan   0.5      Reshma       Kalim      null             null   \n",
       "\n",
       "                 DOB  \n",
       "0    2002-october-08  \n",
       "1    2011-january-27  \n",
       "2  2016-september-26  \n",
       "3     2020-August-03  "
      ]
     },
     "execution_count": 127,
     "metadata": {},
     "output_type": "execute_result"
    }
   ],
   "source": [
    "temp"
   ]
  },
  {
   "cell_type": "code",
   "execution_count": 128,
   "metadata": {
    "scrolled": true
   },
   "outputs": [
    {
     "data": {
      "text/plain": [
       "No.             object\n",
       "Name            object\n",
       "age            float64\n",
       "mother name     object\n",
       "Father name     object\n",
       "Schooling       object\n",
       "Job             object\n",
       "DOB             object\n",
       "dtype: object"
      ]
     },
     "execution_count": 128,
     "metadata": {},
     "output_type": "execute_result"
    }
   ],
   "source": [
    "temp.dtypes"
   ]
  },
  {
   "cell_type": "code",
   "execution_count": 129,
   "metadata": {},
   "outputs": [
    {
     "data": {
      "text/plain": [
       "DatetimeIndex(['2002-06-02', '2002-10-02'], dtype='datetime64[ns]', freq=None)"
      ]
     },
     "execution_count": 129,
     "metadata": {},
     "output_type": "execute_result"
    }
   ],
   "source": [
    "pd.to_datetime([\"2002-jun-02\", \"2002-october-02\"])"
   ]
  },
  {
   "cell_type": "code",
   "execution_count": 130,
   "metadata": {},
   "outputs": [
    {
     "data": {
      "text/html": [
       "<div>\n",
       "<style scoped>\n",
       "    .dataframe tbody tr th:only-of-type {\n",
       "        vertical-align: middle;\n",
       "    }\n",
       "\n",
       "    .dataframe tbody tr th {\n",
       "        vertical-align: top;\n",
       "    }\n",
       "\n",
       "    .dataframe thead th {\n",
       "        text-align: right;\n",
       "    }\n",
       "</style>\n",
       "<table border=\"1\" class=\"dataframe\">\n",
       "  <thead>\n",
       "    <tr style=\"text-align: right;\">\n",
       "      <th></th>\n",
       "      <th>No.</th>\n",
       "      <th>Name</th>\n",
       "      <th>age</th>\n",
       "      <th>mother name</th>\n",
       "      <th>Father name</th>\n",
       "      <th>Schooling</th>\n",
       "      <th>Job</th>\n",
       "      <th>DOB</th>\n",
       "    </tr>\n",
       "  </thead>\n",
       "  <tbody>\n",
       "    <tr>\n",
       "      <th>0</th>\n",
       "      <td>1</td>\n",
       "      <td>Raza</td>\n",
       "      <td>18.0</td>\n",
       "      <td>Zarina</td>\n",
       "      <td>Yunus</td>\n",
       "      <td>PHS</td>\n",
       "      <td>Founder and CEO</td>\n",
       "      <td>2002-october-08</td>\n",
       "    </tr>\n",
       "    <tr>\n",
       "      <th>1</th>\n",
       "      <td>2</td>\n",
       "      <td>Sana</td>\n",
       "      <td>10.0</td>\n",
       "      <td>Zarina</td>\n",
       "      <td>Yunus</td>\n",
       "      <td>CEHS</td>\n",
       "      <td>null</td>\n",
       "      <td>2011-january-27</td>\n",
       "    </tr>\n",
       "    <tr>\n",
       "      <th>2</th>\n",
       "      <td>3</td>\n",
       "      <td>Ziyan</td>\n",
       "      <td>4.0</td>\n",
       "      <td>Reshma</td>\n",
       "      <td>Kalim</td>\n",
       "      <td>null</td>\n",
       "      <td>null</td>\n",
       "      <td>2016-september-26</td>\n",
       "    </tr>\n",
       "    <tr>\n",
       "      <th>3</th>\n",
       "      <td>4</td>\n",
       "      <td>Shayan</td>\n",
       "      <td>0.5</td>\n",
       "      <td>Reshma</td>\n",
       "      <td>Kalim</td>\n",
       "      <td>null</td>\n",
       "      <td>null</td>\n",
       "      <td>2020-August-03</td>\n",
       "    </tr>\n",
       "  </tbody>\n",
       "</table>\n",
       "</div>"
      ],
      "text/plain": [
       "  No.    Name   age mother name Father name Schooling              Job  \\\n",
       "0   1    Raza  18.0      Zarina       Yunus       PHS  Founder and CEO   \n",
       "1   2    Sana  10.0      Zarina       Yunus      CEHS             null   \n",
       "2   3   Ziyan   4.0      Reshma       Kalim      null             null   \n",
       "3   4  Shayan   0.5      Reshma       Kalim      null             null   \n",
       "\n",
       "                 DOB  \n",
       "0    2002-october-08  \n",
       "1    2011-january-27  \n",
       "2  2016-september-26  \n",
       "3     2020-August-03  "
      ]
     },
     "execution_count": 130,
     "metadata": {},
     "output_type": "execute_result"
    }
   ],
   "source": [
    "temp"
   ]
  },
  {
   "cell_type": "code",
   "execution_count": 131,
   "metadata": {},
   "outputs": [
    {
     "data": {
      "text/html": [
       "<div>\n",
       "<style scoped>\n",
       "    .dataframe tbody tr th:only-of-type {\n",
       "        vertical-align: middle;\n",
       "    }\n",
       "\n",
       "    .dataframe tbody tr th {\n",
       "        vertical-align: top;\n",
       "    }\n",
       "\n",
       "    .dataframe thead th {\n",
       "        text-align: right;\n",
       "    }\n",
       "</style>\n",
       "<table border=\"1\" class=\"dataframe\">\n",
       "  <thead>\n",
       "    <tr style=\"text-align: right;\">\n",
       "      <th></th>\n",
       "      <th>No.</th>\n",
       "      <th>Name</th>\n",
       "      <th>age</th>\n",
       "      <th>mother name</th>\n",
       "      <th>Father name</th>\n",
       "      <th>Schooling</th>\n",
       "      <th>Job</th>\n",
       "      <th>DOB</th>\n",
       "    </tr>\n",
       "  </thead>\n",
       "  <tbody>\n",
       "    <tr>\n",
       "      <th>0</th>\n",
       "      <td>1</td>\n",
       "      <td>Raza</td>\n",
       "      <td>18.0</td>\n",
       "      <td>Zarina</td>\n",
       "      <td>Yunus</td>\n",
       "      <td>PHS</td>\n",
       "      <td>Founder and CEO</td>\n",
       "      <td>2002-10-08</td>\n",
       "    </tr>\n",
       "    <tr>\n",
       "      <th>1</th>\n",
       "      <td>2</td>\n",
       "      <td>Sana</td>\n",
       "      <td>10.0</td>\n",
       "      <td>Zarina</td>\n",
       "      <td>Yunus</td>\n",
       "      <td>CEHS</td>\n",
       "      <td>null</td>\n",
       "      <td>2011-01-27</td>\n",
       "    </tr>\n",
       "    <tr>\n",
       "      <th>2</th>\n",
       "      <td>3</td>\n",
       "      <td>Ziyan</td>\n",
       "      <td>4.0</td>\n",
       "      <td>Reshma</td>\n",
       "      <td>Kalim</td>\n",
       "      <td>null</td>\n",
       "      <td>null</td>\n",
       "      <td>2016-09-26</td>\n",
       "    </tr>\n",
       "    <tr>\n",
       "      <th>3</th>\n",
       "      <td>4</td>\n",
       "      <td>Shayan</td>\n",
       "      <td>0.5</td>\n",
       "      <td>Reshma</td>\n",
       "      <td>Kalim</td>\n",
       "      <td>null</td>\n",
       "      <td>null</td>\n",
       "      <td>2020-08-03</td>\n",
       "    </tr>\n",
       "  </tbody>\n",
       "</table>\n",
       "</div>"
      ],
      "text/plain": [
       "  No.    Name   age mother name Father name Schooling              Job  \\\n",
       "0   1    Raza  18.0      Zarina       Yunus       PHS  Founder and CEO   \n",
       "1   2    Sana  10.0      Zarina       Yunus      CEHS             null   \n",
       "2   3   Ziyan   4.0      Reshma       Kalim      null             null   \n",
       "3   4  Shayan   0.5      Reshma       Kalim      null             null   \n",
       "\n",
       "         DOB  \n",
       "0 2002-10-08  \n",
       "1 2011-01-27  \n",
       "2 2016-09-26  \n",
       "3 2020-08-03  "
      ]
     },
     "execution_count": 131,
     "metadata": {},
     "output_type": "execute_result"
    },
    {
     "data": {
      "text/plain": [
       "No.                    object\n",
       "Name                   object\n",
       "age                   float64\n",
       "mother name            object\n",
       "Father name            object\n",
       "Schooling              object\n",
       "Job                    object\n",
       "DOB            datetime64[ns]\n",
       "dtype: object"
      ]
     },
     "execution_count": 131,
     "metadata": {},
     "output_type": "execute_result"
    },
    {
     "data": {
      "text/plain": [
       "DatetimeIndex(['2015-09-11', 'NaT'], dtype='datetime64[ns]', freq=None)"
      ]
     },
     "execution_count": 131,
     "metadata": {},
     "output_type": "execute_result"
    }
   ],
   "source": [
    "temp[\"DOB\"] = pd.to_datetime(temp[\"DOB\"])\n",
    "temp\n",
    "temp.dtypes\n",
    "#ye use karte hai agar hum etime stam read farna hai toh👇🏻\n",
    "pd.to_datetime([\"2015-sep-11\", \"abc\"], errors = \"coerce\")"
   ]
  },
  {
   "cell_type": "code",
   "execution_count": 132,
   "metadata": {},
   "outputs": [
    {
     "data": {
      "text/html": [
       "<div>\n",
       "<style scoped>\n",
       "    .dataframe tbody tr th:only-of-type {\n",
       "        vertical-align: middle;\n",
       "    }\n",
       "\n",
       "    .dataframe tbody tr th {\n",
       "        vertical-align: top;\n",
       "    }\n",
       "\n",
       "    .dataframe thead th {\n",
       "        text-align: right;\n",
       "    }\n",
       "</style>\n",
       "<table border=\"1\" class=\"dataframe\">\n",
       "  <thead>\n",
       "    <tr style=\"text-align: right;\">\n",
       "      <th></th>\n",
       "      <th>No.</th>\n",
       "      <th>Name</th>\n",
       "      <th>age</th>\n",
       "      <th>mother name</th>\n",
       "      <th>Father name</th>\n",
       "      <th>Schooling</th>\n",
       "      <th>Job</th>\n",
       "      <th>DOB</th>\n",
       "    </tr>\n",
       "  </thead>\n",
       "  <tbody>\n",
       "    <tr>\n",
       "      <th>0</th>\n",
       "      <td>1</td>\n",
       "      <td>Raza</td>\n",
       "      <td>18.0</td>\n",
       "      <td>Zarina</td>\n",
       "      <td>Yunus</td>\n",
       "      <td>PHS</td>\n",
       "      <td>Founder and CEO</td>\n",
       "      <td>2002-10-08</td>\n",
       "    </tr>\n",
       "    <tr>\n",
       "      <th>1</th>\n",
       "      <td>2</td>\n",
       "      <td>Sana</td>\n",
       "      <td>10.0</td>\n",
       "      <td>Zarina</td>\n",
       "      <td>Yunus</td>\n",
       "      <td>CEHS</td>\n",
       "      <td>null</td>\n",
       "      <td>2011-01-27</td>\n",
       "    </tr>\n",
       "    <tr>\n",
       "      <th>2</th>\n",
       "      <td>3</td>\n",
       "      <td>Ziyan</td>\n",
       "      <td>4.0</td>\n",
       "      <td>Reshma</td>\n",
       "      <td>Kalim</td>\n",
       "      <td>null</td>\n",
       "      <td>null</td>\n",
       "      <td>2016-09-26</td>\n",
       "    </tr>\n",
       "    <tr>\n",
       "      <th>3</th>\n",
       "      <td>4</td>\n",
       "      <td>Shayan</td>\n",
       "      <td>0.5</td>\n",
       "      <td>Reshma</td>\n",
       "      <td>Kalim</td>\n",
       "      <td>null</td>\n",
       "      <td>null</td>\n",
       "      <td>2020-08-03</td>\n",
       "    </tr>\n",
       "  </tbody>\n",
       "</table>\n",
       "</div>"
      ],
      "text/plain": [
       "   No.    Name   age mother name Father name Schooling              Job  \\\n",
       "0    1    Raza  18.0      Zarina       Yunus       PHS  Founder and CEO   \n",
       "1    2    Sana  10.0      Zarina       Yunus      CEHS             null   \n",
       "2    3   Ziyan   4.0      Reshma       Kalim      null             null   \n",
       "3    4  Shayan   0.5      Reshma       Kalim      null             null   \n",
       "\n",
       "         DOB  \n",
       "0 2002-10-08  \n",
       "1 2011-01-27  \n",
       "2 2016-09-26  \n",
       "3 2020-08-03  "
      ]
     },
     "execution_count": 132,
     "metadata": {},
     "output_type": "execute_result"
    },
    {
     "data": {
      "text/plain": [
       "No.                     int64\n",
       "Name                   object\n",
       "age                   float64\n",
       "mother name            object\n",
       "Father name            object\n",
       "Schooling              object\n",
       "Job                    object\n",
       "DOB            datetime64[ns]\n",
       "dtype: object"
      ]
     },
     "execution_count": 132,
     "metadata": {},
     "output_type": "execute_result"
    }
   ],
   "source": [
    "temp[\"No.\"] = pd.to_numeric(temp[\"No.\"])\n",
    "temp\n",
    "temp.dtypes"
   ]
  },
  {
   "cell_type": "raw",
   "metadata": {},
   "source": [
    "Yup will use describe function in on temp"
   ]
  },
  {
   "cell_type": "code",
   "execution_count": 133,
   "metadata": {},
   "outputs": [
    {
     "name": "stderr",
     "output_type": "stream",
     "text": [
      "<ipython-input-133-af7569076086>:1: FutureWarning: Treating datetime data as categorical rather than numeric in `.describe` is deprecated and will be removed in a future version of pandas. Specify `datetime_is_numeric=True` to silence this warning and adopt the future behavior now.\n",
      "  temp.describe(\n"
     ]
    },
    {
     "data": {
      "text/html": [
       "<div>\n",
       "<style scoped>\n",
       "    .dataframe tbody tr th:only-of-type {\n",
       "        vertical-align: middle;\n",
       "    }\n",
       "\n",
       "    .dataframe tbody tr th {\n",
       "        vertical-align: top;\n",
       "    }\n",
       "\n",
       "    .dataframe thead th {\n",
       "        text-align: right;\n",
       "    }\n",
       "</style>\n",
       "<table border=\"1\" class=\"dataframe\">\n",
       "  <thead>\n",
       "    <tr style=\"text-align: right;\">\n",
       "      <th></th>\n",
       "      <th>No.</th>\n",
       "      <th>Name</th>\n",
       "      <th>age</th>\n",
       "      <th>mother name</th>\n",
       "      <th>Father name</th>\n",
       "      <th>Schooling</th>\n",
       "      <th>Job</th>\n",
       "      <th>DOB</th>\n",
       "    </tr>\n",
       "  </thead>\n",
       "  <tbody>\n",
       "    <tr>\n",
       "      <th>count</th>\n",
       "      <td>4.000000</td>\n",
       "      <td>4</td>\n",
       "      <td>4.000000</td>\n",
       "      <td>4</td>\n",
       "      <td>4</td>\n",
       "      <td>4</td>\n",
       "      <td>4</td>\n",
       "      <td>4</td>\n",
       "    </tr>\n",
       "    <tr>\n",
       "      <th>unique</th>\n",
       "      <td>NaN</td>\n",
       "      <td>4</td>\n",
       "      <td>NaN</td>\n",
       "      <td>2</td>\n",
       "      <td>2</td>\n",
       "      <td>3</td>\n",
       "      <td>2</td>\n",
       "      <td>4</td>\n",
       "    </tr>\n",
       "    <tr>\n",
       "      <th>top</th>\n",
       "      <td>NaN</td>\n",
       "      <td>Sana</td>\n",
       "      <td>NaN</td>\n",
       "      <td>Reshma</td>\n",
       "      <td>Kalim</td>\n",
       "      <td>null</td>\n",
       "      <td>null</td>\n",
       "      <td>2020-08-03 00:00:00</td>\n",
       "    </tr>\n",
       "    <tr>\n",
       "      <th>freq</th>\n",
       "      <td>NaN</td>\n",
       "      <td>1</td>\n",
       "      <td>NaN</td>\n",
       "      <td>2</td>\n",
       "      <td>2</td>\n",
       "      <td>2</td>\n",
       "      <td>3</td>\n",
       "      <td>1</td>\n",
       "    </tr>\n",
       "    <tr>\n",
       "      <th>first</th>\n",
       "      <td>NaN</td>\n",
       "      <td>NaN</td>\n",
       "      <td>NaN</td>\n",
       "      <td>NaN</td>\n",
       "      <td>NaN</td>\n",
       "      <td>NaN</td>\n",
       "      <td>NaN</td>\n",
       "      <td>2002-10-08 00:00:00</td>\n",
       "    </tr>\n",
       "    <tr>\n",
       "      <th>last</th>\n",
       "      <td>NaN</td>\n",
       "      <td>NaN</td>\n",
       "      <td>NaN</td>\n",
       "      <td>NaN</td>\n",
       "      <td>NaN</td>\n",
       "      <td>NaN</td>\n",
       "      <td>NaN</td>\n",
       "      <td>2020-08-03 00:00:00</td>\n",
       "    </tr>\n",
       "    <tr>\n",
       "      <th>mean</th>\n",
       "      <td>2.500000</td>\n",
       "      <td>NaN</td>\n",
       "      <td>8.125000</td>\n",
       "      <td>NaN</td>\n",
       "      <td>NaN</td>\n",
       "      <td>NaN</td>\n",
       "      <td>NaN</td>\n",
       "      <td>NaN</td>\n",
       "    </tr>\n",
       "    <tr>\n",
       "      <th>std</th>\n",
       "      <td>1.290994</td>\n",
       "      <td>NaN</td>\n",
       "      <td>7.663496</td>\n",
       "      <td>NaN</td>\n",
       "      <td>NaN</td>\n",
       "      <td>NaN</td>\n",
       "      <td>NaN</td>\n",
       "      <td>NaN</td>\n",
       "    </tr>\n",
       "    <tr>\n",
       "      <th>min</th>\n",
       "      <td>1.000000</td>\n",
       "      <td>NaN</td>\n",
       "      <td>0.500000</td>\n",
       "      <td>NaN</td>\n",
       "      <td>NaN</td>\n",
       "      <td>NaN</td>\n",
       "      <td>NaN</td>\n",
       "      <td>NaN</td>\n",
       "    </tr>\n",
       "    <tr>\n",
       "      <th>25%</th>\n",
       "      <td>1.750000</td>\n",
       "      <td>NaN</td>\n",
       "      <td>3.125000</td>\n",
       "      <td>NaN</td>\n",
       "      <td>NaN</td>\n",
       "      <td>NaN</td>\n",
       "      <td>NaN</td>\n",
       "      <td>NaN</td>\n",
       "    </tr>\n",
       "    <tr>\n",
       "      <th>50%</th>\n",
       "      <td>2.500000</td>\n",
       "      <td>NaN</td>\n",
       "      <td>7.000000</td>\n",
       "      <td>NaN</td>\n",
       "      <td>NaN</td>\n",
       "      <td>NaN</td>\n",
       "      <td>NaN</td>\n",
       "      <td>NaN</td>\n",
       "    </tr>\n",
       "    <tr>\n",
       "      <th>75%</th>\n",
       "      <td>3.250000</td>\n",
       "      <td>NaN</td>\n",
       "      <td>12.000000</td>\n",
       "      <td>NaN</td>\n",
       "      <td>NaN</td>\n",
       "      <td>NaN</td>\n",
       "      <td>NaN</td>\n",
       "      <td>NaN</td>\n",
       "    </tr>\n",
       "    <tr>\n",
       "      <th>max</th>\n",
       "      <td>4.000000</td>\n",
       "      <td>NaN</td>\n",
       "      <td>18.000000</td>\n",
       "      <td>NaN</td>\n",
       "      <td>NaN</td>\n",
       "      <td>NaN</td>\n",
       "      <td>NaN</td>\n",
       "      <td>NaN</td>\n",
       "    </tr>\n",
       "  </tbody>\n",
       "</table>\n",
       "</div>"
      ],
      "text/plain": [
       "             No.  Name        age mother name Father name Schooling   Job  \\\n",
       "count   4.000000     4   4.000000           4           4         4     4   \n",
       "unique       NaN     4        NaN           2           2         3     2   \n",
       "top          NaN  Sana        NaN      Reshma       Kalim      null  null   \n",
       "freq         NaN     1        NaN           2           2         2     3   \n",
       "first        NaN   NaN        NaN         NaN         NaN       NaN   NaN   \n",
       "last         NaN   NaN        NaN         NaN         NaN       NaN   NaN   \n",
       "mean    2.500000   NaN   8.125000         NaN         NaN       NaN   NaN   \n",
       "std     1.290994   NaN   7.663496         NaN         NaN       NaN   NaN   \n",
       "min     1.000000   NaN   0.500000         NaN         NaN       NaN   NaN   \n",
       "25%     1.750000   NaN   3.125000         NaN         NaN       NaN   NaN   \n",
       "50%     2.500000   NaN   7.000000         NaN         NaN       NaN   NaN   \n",
       "75%     3.250000   NaN  12.000000         NaN         NaN       NaN   NaN   \n",
       "max     4.000000   NaN  18.000000         NaN         NaN       NaN   NaN   \n",
       "\n",
       "                        DOB  \n",
       "count                     4  \n",
       "unique                    4  \n",
       "top     2020-08-03 00:00:00  \n",
       "freq                      1  \n",
       "first   2002-10-08 00:00:00  \n",
       "last    2020-08-03 00:00:00  \n",
       "mean                    NaN  \n",
       "std                     NaN  \n",
       "min                     NaN  \n",
       "25%                     NaN  \n",
       "50%                     NaN  \n",
       "75%                     NaN  \n",
       "max                     NaN  "
      ]
     },
     "execution_count": 133,
     "metadata": {},
     "output_type": "execute_result"
    }
   ],
   "source": [
    "temp.describe(\n",
    "       include = \"all\"\n",
    ")"
   ]
  },
  {
   "cell_type": "code",
   "execution_count": 134,
   "metadata": {},
   "outputs": [
    {
     "data": {
      "text/plain": [
       "Kriti Gupta       1\n",
       "V Soumya          1\n",
       "Shubham Shukla    1\n",
       "Devansh Pandey    1\n",
       "Ronak Kumbhat     1\n",
       "                 ..\n",
       "Samay Rathi       1\n",
       "Ravinder Singh    1\n",
       "Aman Uttam        1\n",
       "Rishit Sharma     1\n",
       "Yash Parihar      1\n",
       "Name: Name, Length: 91, dtype: int64"
      ]
     },
     "execution_count": 134,
     "metadata": {},
     "output_type": "execute_result"
    }
   ],
   "source": [
    "df[\"Name\"].value_counts()"
   ]
  },
  {
   "cell_type": "code",
   "execution_count": 136,
   "metadata": {},
   "outputs": [
    {
     "data": {
      "text/plain": [
       "A2          86\n",
       "A-2          2\n",
       "a2           2\n",
       "A2 batch     1\n",
       "Name: Batch, dtype: int64"
      ]
     },
     "execution_count": 136,
     "metadata": {},
     "output_type": "execute_result"
    }
   ],
   "source": [
    "df[\"Batch\"].value_counts()"
   ]
  },
  {
   "cell_type": "code",
   "execution_count": 144,
   "metadata": {},
   "outputs": [
    {
     "data": {
      "text/plain": [
       "Kalim    2\n",
       "Yunus    2\n",
       "Name: Father name, dtype: int64"
      ]
     },
     "execution_count": 144,
     "metadata": {},
     "output_type": "execute_result"
    }
   ],
   "source": [
    "temp[\"Father name\"].value_counts()"
   ]
  },
  {
   "cell_type": "code",
   "execution_count": null,
   "metadata": {},
   "outputs": [],
   "source": []
  }
 ],
 "metadata": {
  "kernelspec": {
   "display_name": "Python 3",
   "language": "python",
   "name": "python3"
  },
  "language_info": {
   "codemirror_mode": {
    "name": "ipython",
    "version": 3
   },
   "file_extension": ".py",
   "mimetype": "text/x-python",
   "name": "python",
   "nbconvert_exporter": "python",
   "pygments_lexer": "ipython3",
   "version": "3.8.5"
  }
 },
 "nbformat": 4,
 "nbformat_minor": 4
}
